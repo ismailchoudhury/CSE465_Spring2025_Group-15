{
  "metadata": {
    "kernelspec": {
      "display_name": "Python 3",
      "name": "python3"
    },
    "language_info": {
      "name": "python",
      "version": "3.10.12",
      "mimetype": "text/x-python",
      "codemirror_mode": {
        "name": "ipython",
        "version": 3
      },
      "pygments_lexer": "ipython3",
      "nbconvert_exporter": "python",
      "file_extension": ".py"
    },
    "kaggle": {
      "accelerator": "nvidiaTeslaT4",
      "dataSources": [
        {
          "sourceId": 11173372,
          "sourceType": "datasetVersion",
          "datasetId": 6973339
        }
      ],
      "dockerImageVersionId": 30919,
      "isInternetEnabled": true,
      "language": "python",
      "sourceType": "notebook",
      "isGpuEnabled": true
    },
    "colab": {
      "provenance": [],
      "gpuType": "T4"
    },
    "accelerator": "GPU"
  },
  "nbformat_minor": 0,
  "nbformat": 4,
  "cells": [
    {
      "cell_type": "code",
      "source": [
        "import torch\n",
        "import torch.nn as nn\n",
        "import torchvision.transforms as transforms\n",
        "import torchvision.models as models\n",
        "import torchvision.datasets as datasets\n",
        "from torch.utils.data import DataLoader, Subset\n",
        "from sklearn.model_selection import KFold\n",
        "from sklearn.metrics import accuracy_score, precision_recall_fscore_support\n",
        "import os\n",
        "import pandas as pd\n",
        "from PIL import Image\n"
      ],
      "metadata": {
        "trusted": true,
        "execution": {
          "iopub.status.busy": "2025-03-26T21:28:41.795511Z",
          "iopub.execute_input": "2025-03-26T21:28:41.795979Z",
          "iopub.status.idle": "2025-03-26T21:28:47.902675Z",
          "shell.execute_reply.started": "2025-03-26T21:28:41.795944Z",
          "shell.execute_reply": "2025-03-26T21:28:47.901980Z"
        },
        "id": "2yALe2L2xODT"
      },
      "outputs": [],
      "execution_count": 1
    },
    {
      "cell_type": "code",
      "source": [
        "from google.colab import drive\n",
        "drive.mount('/content/drive')"
      ],
      "metadata": {
        "id": "1DVq8NXimF2V"
      },
      "execution_count": null,
      "outputs": []
    },
    {
      "cell_type": "code",
      "source": [
        "from google.colab import drive\n",
        "drive.mount('/content/drive')\n"
      ],
      "metadata": {
        "id": "nhPPGifcxuQZ",
        "colab": {
          "base_uri": "https://localhost:8080/"
        },
        "outputId": "d65f41dc-718e-4208-9151-21d3fb17f5cc"
      },
      "execution_count": 2,
      "outputs": [
        {
          "output_type": "stream",
          "name": "stdout",
          "text": [
            "Mounted at /content/drive\n"
          ]
        }
      ]
    },
    {
      "cell_type": "code",
      "source": [
        "# Define dataset path\n",
        "dataset_path = \"/content/drive/My Drive/ExDark\"\n",
        "augmented_data_folder = \"Augmented Data\"\n",
        "os.makedirs(augmented_data_folder, exist_ok=True)"
      ],
      "metadata": {
        "trusted": true,
        "execution": {
          "iopub.status.busy": "2025-03-26T21:28:47.903794Z",
          "iopub.execute_input": "2025-03-26T21:28:47.904249Z",
          "iopub.status.idle": "2025-03-26T21:28:47.908306Z",
          "shell.execute_reply.started": "2025-03-26T21:28:47.904218Z",
          "shell.execute_reply": "2025-03-26T21:28:47.907503Z"
        },
        "id": "adwEZ_SwxODU"
      },
      "outputs": [],
      "execution_count": 3
    },
    {
      "cell_type": "code",
      "source": [
        "from google.colab import files\n",
        "import zipfile"
      ],
      "metadata": {
        "id": "NgNjDJ4YxRN5"
      },
      "execution_count": 4,
      "outputs": []
    },
    {
      "cell_type": "code",
      "source": [
        "# Define transformations\n",
        "transform = transforms.Compose([\n",
        "    transforms.Resize((224, 224)),\n",
        "    transforms.ToTensor(),\n",
        "])"
      ],
      "metadata": {
        "trusted": true,
        "execution": {
          "iopub.status.busy": "2025-03-26T21:28:47.910335Z",
          "iopub.execute_input": "2025-03-26T21:28:47.910591Z",
          "iopub.status.idle": "2025-03-26T21:28:47.938200Z",
          "shell.execute_reply.started": "2025-03-26T21:28:47.910571Z",
          "shell.execute_reply": "2025-03-26T21:28:47.937408Z"
        },
        "id": "foSyOP23xODU"
      },
      "outputs": [],
      "execution_count": 5
    },
    {
      "cell_type": "code",
      "source": [
        "# Load dataset\n",
        "full_dataset = datasets.ImageFolder(root=dataset_path, transform=transform)"
      ],
      "metadata": {
        "trusted": true,
        "execution": {
          "iopub.status.busy": "2025-03-26T21:28:47.939402Z",
          "iopub.execute_input": "2025-03-26T21:28:47.939650Z",
          "iopub.status.idle": "2025-03-26T21:29:30.170095Z",
          "shell.execute_reply.started": "2025-03-26T21:28:47.939620Z",
          "shell.execute_reply": "2025-03-26T21:29:30.169407Z"
        },
        "id": "fBajIQojxODV"
      },
      "outputs": [],
      "execution_count": 6
    },
    {
      "cell_type": "code",
      "source": [
        "import random\n",
        "\n",
        "# Define the number of augmented images required (30% more)\n",
        "num_original_images = len(full_dataset)\n",
        "num_augmented_images = int(0.3 * num_original_images)\n",
        "\n",
        "# Define augmentation transformations\n",
        "augmentation_transforms = transforms.Compose([\n",
        "    transforms.RandomHorizontalFlip(p=0.5),  # 50% chance of flipping\n",
        "    transforms.RandomRotation(15),  # Rotate by ±15 degrees\n",
        "    transforms.ColorJitter(brightness=0.3, contrast=0.3, saturation=0.2, hue=0.1),\n",
        "    transforms.ToTensor()\n",
        "])\n",
        "\n",
        "augmented_images = []\n",
        "augmented_labels = []\n",
        "\n",
        "# Randomly select images to augment until we reach the 30% increase\n",
        "for i in range(num_augmented_images):\n",
        "    original_idx = random.randint(0, num_original_images - 1)  # Pick a random image\n",
        "    image, label = full_dataset[original_idx]\n",
        "\n",
        "    # Convert tensor to PIL for augmentation\n",
        "    image = transforms.ToPILImage()(image)\n",
        "\n",
        "    # Apply augmentation\n",
        "    augmented_image = augmentation_transforms(image)\n",
        "\n",
        "    # Save augmented image\n",
        "    augmented_image_path = os.path.join(augmented_data_folder, f\"augmented_{i}.jpg\")\n",
        "    transforms.ToPILImage()(augmented_image).save(augmented_image_path)\n",
        "\n",
        "    augmented_images.append(augmented_image_path)\n",
        "    augmented_labels.append(full_dataset.classes[label])"
      ],
      "metadata": {
        "trusted": true,
        "execution": {
          "iopub.status.busy": "2025-03-26T21:29:30.170783Z",
          "iopub.execute_input": "2025-03-26T21:29:30.170995Z",
          "iopub.status.idle": "2025-03-26T21:33:31.421081Z",
          "shell.execute_reply.started": "2025-03-26T21:29:30.170978Z",
          "shell.execute_reply": "2025-03-26T21:33:31.420347Z"
        },
        "id": "JJioe30ZxODV"
      },
      "outputs": [],
      "execution_count": 7
    },
    {
      "cell_type": "code",
      "source": [
        "# Save augmented labels in a CSV file\n",
        "pd.DataFrame({\"image\": augmented_images, \"label\": augmented_labels}).to_csv(\"augmented_labels.csv\", index=False)"
      ],
      "metadata": {
        "trusted": true,
        "execution": {
          "iopub.status.busy": "2025-03-26T21:33:31.421896Z",
          "iopub.execute_input": "2025-03-26T21:33:31.422180Z",
          "iopub.status.idle": "2025-03-26T21:33:31.443865Z",
          "shell.execute_reply.started": "2025-03-26T21:33:31.422152Z",
          "shell.execute_reply": "2025-03-26T21:33:31.443267Z"
        },
        "id": "A9ocfA67xODW"
      },
      "outputs": [],
      "execution_count": 8
    },
    {
      "cell_type": "code",
      "source": [
        "# Define ResNet-52 (Modified ResNet-50)\n",
        "class ResNet52(nn.Module):\n",
        "    def __init__(self, num_classes):\n",
        "        super(ResNet52, self).__init__()\n",
        "        self.model = models.resnet50(pretrained=True)\n",
        "        self.model.layer4[2] = nn.Sequential(\n",
        "            self.model.layer4[2],  # Existing Bottleneck\n",
        "            nn.Conv2d(2048, 2048, kernel_size=3, padding=1),\n",
        "            nn.BatchNorm2d(2048),\n",
        "            nn.ReLU()\n",
        "        )\n",
        "        self.model.fc = nn.Linear(2048, num_classes)\n",
        "\n",
        "    def forward(self, x):\n",
        "        return self.model(x)"
      ],
      "metadata": {
        "trusted": true,
        "execution": {
          "iopub.status.busy": "2025-03-26T21:33:31.444472Z",
          "iopub.execute_input": "2025-03-26T21:33:31.444725Z",
          "iopub.status.idle": "2025-03-26T21:33:31.449326Z",
          "shell.execute_reply.started": "2025-03-26T21:33:31.444707Z",
          "shell.execute_reply": "2025-03-26T21:33:31.448563Z"
        },
        "id": "YjeP5plcxODW"
      },
      "outputs": [],
      "execution_count": 9
    },
    {
      "cell_type": "code",
      "source": [
        "# Initialize model\n",
        "num_classes = len(full_dataset.classes)\n",
        "device = torch.device(\"cuda\" if torch.cuda.is_available() else \"cpu\")\n",
        "model = ResNet52(num_classes).to(device)\n",
        "criterion = nn.CrossEntropyLoss()\n",
        "optimizer = torch.optim.Adam(model.parameters(), lr=0.001)"
      ],
      "metadata": {
        "trusted": true,
        "execution": {
          "iopub.status.busy": "2025-03-26T21:33:31.450079Z",
          "iopub.execute_input": "2025-03-26T21:33:31.450321Z",
          "iopub.status.idle": "2025-03-26T21:33:33.211365Z",
          "shell.execute_reply.started": "2025-03-26T21:33:31.450302Z",
          "shell.execute_reply": "2025-03-26T21:33:33.210745Z"
        },
        "id": "UBDOCIFHxODX",
        "colab": {
          "base_uri": "https://localhost:8080/"
        },
        "outputId": "53bf7a7d-826a-4425-d354-adebd8c30081"
      },
      "outputs": [
        {
          "output_type": "stream",
          "name": "stderr",
          "text": [
            "/usr/local/lib/python3.11/dist-packages/torchvision/models/_utils.py:208: UserWarning: The parameter 'pretrained' is deprecated since 0.13 and may be removed in the future, please use 'weights' instead.\n",
            "  warnings.warn(\n",
            "/usr/local/lib/python3.11/dist-packages/torchvision/models/_utils.py:223: UserWarning: Arguments other than a weight enum or `None` for 'weights' are deprecated since 0.13 and may be removed in the future. The current behavior is equivalent to passing `weights=ResNet50_Weights.IMAGENET1K_V1`. You can also use `weights=ResNet50_Weights.DEFAULT` to get the most up-to-date weights.\n",
            "  warnings.warn(msg)\n",
            "Downloading: \"https://download.pytorch.org/models/resnet50-0676ba61.pth\" to /root/.cache/torch/hub/checkpoints/resnet50-0676ba61.pth\n",
            "100%|██████████| 97.8M/97.8M [00:00<00:00, 175MB/s]\n"
          ]
        }
      ],
      "execution_count": 10
    },
    {
      "cell_type": "code",
      "source": [
        "# K-Fold Cross-Validation\n",
        "kf = KFold(n_splits=5, shuffle=True)\n",
        "batch_size = 32\n",
        "metrics = {\"accuracy\": [], \"precision\": [], \"recall\": [], \"f1\": []}\n",
        "\n",
        "for fold, (train_idx, val_idx) in enumerate(kf.split(full_dataset)):\n",
        "    print(f\"Fold {fold+1}...\")\n",
        "    train_subset = Subset(full_dataset, train_idx)\n",
        "    val_subset = Subset(full_dataset, val_idx)\n",
        "    train_loader = DataLoader(train_subset, batch_size=batch_size, shuffle=True)\n",
        "    val_loader = DataLoader(val_subset, batch_size=batch_size, shuffle=False)\n",
        "\n",
        "    # Train model\n",
        "    for epoch in range(5):\n",
        "        model.train()\n",
        "        for images, labels in train_loader:\n",
        "            images, labels = images.to(device), labels.to(device)\n",
        "            optimizer.zero_grad()\n",
        "            outputs = model(images)\n",
        "            loss = criterion(outputs, labels)\n",
        "            loss.backward()\n",
        "            optimizer.step()\n",
        "\n",
        "    # Evaluate model\n",
        "    model.eval()\n",
        "    all_preds, all_labels = [], []\n",
        "    with torch.no_grad():\n",
        "        for images, labels in val_loader:\n",
        "            images, labels = images.to(device), labels.to(device)\n",
        "            outputs = model(images)\n",
        "            _, preds = torch.max(outputs, 1)\n",
        "            all_preds.extend(preds.cpu().numpy())\n",
        "            all_labels.extend(labels.cpu().numpy())\n",
        "\n",
        "    accuracy = accuracy_score(all_labels, all_preds)\n",
        "    precision, recall, f1, _ = precision_recall_fscore_support(all_labels, all_preds, average='weighted')\n",
        "\n",
        "    metrics[\"accuracy\"].append(accuracy)\n",
        "    metrics[\"precision\"].append(precision)\n",
        "    metrics[\"recall\"].append(recall)\n",
        "    metrics[\"f1\"].append(f1)\n",
        "\n",
        "    print(f\"Fold {fold+1} - Accuracy: {accuracy:.4f}, Precision: {precision:.4f}, Recall: {recall:.4f}, F1: {f1:.4f}\")\n",
        "\n",
        "# Save trained model\n",
        "torch.save(model.state_dict(), \"resnet52_model.pt\")\n",
        "torch.save(model, \"resnet52_model.h5\")\n",
        "print(\"Model saved successfully.\")\n",
        "\n",
        "# Save final results\n",
        "df_results = pd.DataFrame(metrics)\n",
        "df_results.to_csv(\"final_results.csv\", index=False)\n",
        "print(\"Final results saved.\")"
      ],
      "metadata": {
        "trusted": true,
        "execution": {
          "iopub.status.busy": "2025-03-26T21:33:33.212877Z",
          "iopub.execute_input": "2025-03-26T21:33:33.213088Z",
          "iopub.status.idle": "2025-03-26T22:14:01.301013Z",
          "shell.execute_reply.started": "2025-03-26T21:33:33.213071Z",
          "shell.execute_reply": "2025-03-26T22:14:01.300077Z"
        },
        "id": "EoYW4kuRxODX",
        "colab": {
          "base_uri": "https://localhost:8080/"
        },
        "outputId": "7096aea6-0813-4462-cfa9-423ce821ffa2"
      },
      "outputs": [
        {
          "output_type": "stream",
          "name": "stdout",
          "text": [
            "Fold 1...\n",
            "Fold 1 - Accuracy: 0.4481, Precision: 0.4724, Recall: 0.4481, F1: 0.4354\n",
            "Fold 2...\n",
            "Fold 2 - Accuracy: 0.5173, Precision: 0.5618, Recall: 0.5173, F1: 0.5105\n",
            "Fold 3...\n",
            "Fold 3 - Accuracy: 0.6463, Precision: 0.7034, Recall: 0.6463, F1: 0.6210\n",
            "Fold 4...\n",
            "Fold 4 - Accuracy: 0.8084, Precision: 0.8288, Recall: 0.8084, F1: 0.8061\n",
            "Fold 5...\n",
            "Fold 5 - Accuracy: 0.8845, Precision: 0.8959, Recall: 0.8845, F1: 0.8833\n",
            "Model saved successfully.\n",
            "Final results saved.\n"
          ]
        }
      ],
      "execution_count": 11
    },
    {
      "cell_type": "code",
      "source": [
        "import shutil\n",
        "import os\n",
        "\n",
        "# Define paths\n",
        "augmented_data_path = \"/content/drive/My Drive/Augmented Data\"\n",
        "zip_file_path = \"/content/drive/My Drive/Augmented_Data.zip\"\n",
        "\n",
        "# Ensure the directory exists before zipping\n",
        "if os.path.exists(augmented_data_path):\n",
        "    # Zip the folder\n",
        "    shutil.make_archive(zip_file_path.replace(\".zip\", \"\"), 'zip', augmented_data_path)\n",
        "    print(\"✅ Augmented data has been zipped successfully.\")\n",
        "else:\n",
        "    print(\"❌ Error: Augmented Data folder not found!\")\n"
      ],
      "metadata": {
        "trusted": true,
        "execution": {
          "iopub.status.busy": "2025-03-26T22:14:01.302074Z",
          "iopub.execute_input": "2025-03-26T22:14:01.302300Z",
          "iopub.status.idle": "2025-03-26T22:14:03.225185Z",
          "shell.execute_reply.started": "2025-03-26T22:14:01.302282Z",
          "shell.execute_reply": "2025-03-26T22:14:03.224417Z"
        },
        "id": "3-T6WyGFxODY",
        "colab": {
          "base_uri": "https://localhost:8080/"
        },
        "outputId": "f168418b-1e78-47fd-863d-468f2a691702"
      },
      "outputs": [
        {
          "output_type": "stream",
          "name": "stdout",
          "text": [
            "❌ Error: Augmented Data folder not found!\n"
          ]
        }
      ],
      "execution_count": 12
    },
    {
      "cell_type": "code",
      "source": [
        "import shutil\n",
        "import os\n",
        "\n",
        "# Define new directory inside /content/ (Google Colab's working directory)\n",
        "new_directory = \"/content/drive/My Drive/my_saved_files\"\n",
        "os.makedirs(new_directory, exist_ok=True)\n",
        "\n",
        "# Define paths\n",
        "augmented_data_path = \"/content/drive/My Drive/Augmented Data\"  # Ensure this exists\n",
        "model_path_pt = \"/content/drive/My Drive/resnet52_model.pt\"\n",
        "model_path_h5 = \"/content/drive/My Drive/resnet52_model.h5\"\n",
        "labels_path = \"/content/drive/My Drive/augmented_labels.csv\"\n",
        "\n",
        "# Zip the augmented data folder\n",
        "zip_augmented_data = f\"{new_directory}/Augmented_Data.zip\"\n",
        "if os.path.exists(augmented_data_path):\n",
        "    shutil.make_archive(zip_augmented_data.replace(\".zip\", \"\"), 'zip', augmented_data_path)\n",
        "    print(\"✅ Augmented data has been zipped successfully.\")\n",
        "else:\n",
        "    print(\"❌ Error: Augmented Data folder not found!\")\n",
        "\n",
        "# Move model and labels files to the new directory\n",
        "if os.path.exists(model_path_pt):\n",
        "    shutil.move(model_path_pt, f\"{new_directory}/resnet52_model.pt\")\n",
        "if os.path.exists(model_path_h5):\n",
        "    shutil.move(model_path_h5, f\"{new_directory}/resnet52_model.h5\")\n",
        "if os.path.exists(labels_path):\n",
        "    shutil.move(labels_path, f\"{new_directory}/augmented_labels.csv\")\n",
        "\n",
        "print(f\"✅ All files are saved in: {new_directory}. Ready for download.\")\n",
        "\n",
        "# Auto-download the files\n",
        "from google.colab import files\n",
        "\n",
        "# Download model files and CSV\n",
        "for file_name in [\"resnet52_model.pt\", \"resnet52_model.h5\", \"augmented_labels.csv\", \"Augmented_Data.zip\"]:\n",
        "    file_path = f\"{new_directory}/{file_name}\"\n",
        "    if os.path.exists(file_path):\n",
        "        files.download(file_path)\n",
        "    else:\n",
        "        print(f\"❌ Warning: {file_name} not found.\")\n"
      ],
      "metadata": {
        "trusted": true,
        "execution": {
          "iopub.status.busy": "2025-03-26T22:41:11.444631Z",
          "iopub.execute_input": "2025-03-26T22:41:11.444948Z",
          "iopub.status.idle": "2025-03-26T22:41:13.316927Z",
          "shell.execute_reply.started": "2025-03-26T22:41:11.444926Z",
          "shell.execute_reply": "2025-03-26T22:41:13.316158Z"
        },
        "id": "cKxieD-7xODY",
        "colab": {
          "base_uri": "https://localhost:8080/"
        },
        "outputId": "f151eefc-05f4-4590-a5f4-b6026b674880"
      },
      "outputs": [
        {
          "output_type": "stream",
          "name": "stdout",
          "text": [
            "❌ Error: Augmented Data folder not found!\n",
            "✅ All files are saved in: /content/drive/My Drive/my_saved_files. Ready for download.\n",
            "❌ Warning: resnet52_model.pt not found.\n",
            "❌ Warning: resnet52_model.h5 not found.\n",
            "❌ Warning: augmented_labels.csv not found.\n",
            "❌ Warning: Augmented_Data.zip not found.\n"
          ]
        }
      ],
      "execution_count": 13
    },
    {
      "cell_type": "code",
      "source": [
        "import os\n",
        "\n",
        "augmented_data_path = \"/content/Augmented Data\"\n",
        "if os.path.exists(augmented_data_path):\n",
        "    print(\"✅ Augmented Data folder exists.\")\n",
        "else:\n",
        "    print(\"❌ Augmented Data folder NOT found! Check if data was generated correctly.\")\n"
      ],
      "metadata": {
        "colab": {
          "base_uri": "https://localhost:8080/"
        },
        "id": "yRtYez8ymegb",
        "outputId": "1fdd6202-2f24-4b3a-a3ac-f377a06b7216"
      },
      "execution_count": 17,
      "outputs": [
        {
          "output_type": "stream",
          "name": "stdout",
          "text": [
            "✅ Augmented Data folder exists.\n"
          ]
        }
      ]
    },
    {
      "cell_type": "code",
      "source": [
        "import shutil\n",
        "\n",
        "# Define paths\n",
        "zip_file_path = \"/content/download/my_saved_files/Augmented_Data.zip\"\n",
        "augmented_data_path = \"/content/Augmented Data\"\n",
        "\n",
        "# Try creating the zip file\n",
        "if os.path.exists(augmented_data_path):\n",
        "    os.makedirs(\"/content/download/my_saved_files\", exist_ok=True)  # Create folder if not exist\n",
        "    shutil.make_archive(zip_file_path.replace(\".zip\", \"\"), 'zip', augmented_data_path)\n",
        "    print(\"✅ Zip file created successfully.\")\n",
        "else:\n",
        "    print(\"❌ Error: Augmented Data folder not found!\")\n"
      ],
      "metadata": {
        "colab": {
          "base_uri": "https://localhost:8080/"
        },
        "id": "gPgkz3ruo_hS",
        "outputId": "de57d6f0-b72d-45e4-e411-c7cfecee5bb2"
      },
      "execution_count": 18,
      "outputs": [
        {
          "output_type": "stream",
          "name": "stdout",
          "text": [
            "✅ Zip file created successfully.\n"
          ]
        }
      ]
    },
    {
      "cell_type": "code",
      "source": [
        "if os.path.exists(zip_file_path):\n",
        "    print(\"✅ Zip file exists, ready to move.\")\n",
        "else:\n",
        "    print(\"❌ Zip file NOT found! There is an issue with zipping.\")\n"
      ],
      "metadata": {
        "colab": {
          "base_uri": "https://localhost:8080/"
        },
        "id": "DuWgP0ybpBaR",
        "outputId": "41eeec1d-e82b-4484-e8b6-1324d5e038c3"
      },
      "execution_count": 19,
      "outputs": [
        {
          "output_type": "stream",
          "name": "stdout",
          "text": [
            "✅ Zip file exists, ready to move.\n"
          ]
        }
      ]
    },
    {
      "cell_type": "code",
      "source": [
        "from google.colab import drive\n",
        "import shutil\n",
        "import os\n",
        "\n",
        "# Mount Google Drive\n",
        "drive.mount('/content/drive')\n",
        "\n",
        "# Define Google Drive path\n",
        "drive_folder = \"/content/drive/My Drive/Colab Saved Files\"\n",
        "os.makedirs(drive_folder, exist_ok=True)\n",
        "\n",
        "# Move files only if they exist\n",
        "for file_name in [\"Augmented_Data.zip\", \"resnet52_model.pt\", \"resnet52_model.h5\", \"augmented_labels.csv\"]:\n",
        "    file_path = f\"/content/download/my_saved_files/{file_name}\"\n",
        "    if os.path.exists(file_path):\n",
        "        shutil.move(file_path, f\"{drive_folder}/{file_name}\")\n",
        "        print(f\"✅ {file_name} moved to Google Drive.\")\n",
        "    else:\n",
        "        print(f\"❌ Warning: {file_name} not found. Skipping.\")\n"
      ],
      "metadata": {
        "colab": {
          "base_uri": "https://localhost:8080/"
        },
        "id": "epKwy4ckpEjB",
        "outputId": "e847cde6-43b6-4eaa-ae8a-865a1e7c6e21"
      },
      "execution_count": 20,
      "outputs": [
        {
          "output_type": "stream",
          "name": "stdout",
          "text": [
            "Drive already mounted at /content/drive; to attempt to forcibly remount, call drive.mount(\"/content/drive\", force_remount=True).\n",
            "✅ Augmented_Data.zip moved to Google Drive.\n",
            "❌ Warning: resnet52_model.pt not found. Skipping.\n",
            "❌ Warning: resnet52_model.h5 not found. Skipping.\n",
            "❌ Warning: augmented_labels.csv not found. Skipping.\n"
          ]
        }
      ]
    },
    {
      "cell_type": "code",
      "source": [
        "import os\n",
        "\n",
        "model_path_pt = \"/content/resnet52_model.pt\"\n",
        "\n",
        "if os.path.exists(model_path_pt):\n",
        "    print(\"✅ Model file (.pt) exists.\")\n",
        "else:\n",
        "    print(\"❌ Model file (.pt) NOT found! Make sure you saved it correctly.\")\n"
      ],
      "metadata": {
        "colab": {
          "base_uri": "https://localhost:8080/"
        },
        "id": "6ObGYk_RqBBK",
        "outputId": "2ae5cb1f-dfc6-4952-b212-7bfe5d9aec80"
      },
      "execution_count": 21,
      "outputs": [
        {
          "output_type": "stream",
          "name": "stdout",
          "text": [
            "✅ Model file (.pt) exists.\n"
          ]
        }
      ]
    },
    {
      "cell_type": "code",
      "source": [
        "from google.colab import drive\n",
        "import shutil\n",
        "\n",
        "# Mount Google Drive\n",
        "drive.mount('/content/drive')\n",
        "\n",
        "# Define Google Drive path\n",
        "drive_folder = \"/content/drive/My Drive/Colab Saved Files\"\n",
        "os.makedirs(drive_folder, exist_ok=True)\n",
        "\n",
        "# Move model file only if it exists\n",
        "model_file_path = \"/content/resnet52_model.pt\"\n",
        "if os.path.exists(model_file_path):\n",
        "    shutil.move(model_file_path, f\"{drive_folder}/resnet52_model.pt\")\n",
        "    print(\"✅ Model file (.pt) moved to Google Drive.\")\n",
        "else:\n",
        "    print(\"❌ Warning: Model file (.pt) not found. Skipping.\")\n"
      ],
      "metadata": {
        "colab": {
          "base_uri": "https://localhost:8080/"
        },
        "id": "rRPoH_OjqCRJ",
        "outputId": "60f64b4b-f13f-4686-ea86-230379d513ef"
      },
      "execution_count": 22,
      "outputs": [
        {
          "output_type": "stream",
          "name": "stdout",
          "text": [
            "Drive already mounted at /content/drive; to attempt to forcibly remount, call drive.mount(\"/content/drive\", force_remount=True).\n",
            "✅ Model file (.pt) moved to Google Drive.\n"
          ]
        }
      ]
    },
    {
      "cell_type": "code",
      "source": [],
      "metadata": {
        "id": "C3c6jAS7qFHC"
      },
      "execution_count": null,
      "outputs": []
    }
  ]
}